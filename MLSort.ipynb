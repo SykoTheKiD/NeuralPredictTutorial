{
  "nbformat": 4,
  "nbformat_minor": 0,
  "metadata": {
    "colab": {
      "name": "MLSort.ipynb",
      "version": "0.3.2",
      "provenance": [],
      "collapsed_sections": [],
      "include_colab_link": true
    },
    "kernelspec": {
      "name": "python3",
      "display_name": "Python 3"
    },
    "accelerator": "GPU"
  },
  "cells": [
    {
      "cell_type": "markdown",
      "metadata": {
        "id": "view-in-github",
        "colab_type": "text"
      },
      "source": [
        "<a href=\"https://colab.research.google.com/github/SykoTheKiD/NeuralPredictTutorial/blob/master/MLSort.ipynb\" target=\"_parent\"><img src=\"https://colab.research.google.com/assets/colab-badge.svg\" alt=\"Open In Colab\"/></a>"
      ]
    },
    {
      "metadata": {
        "id": "ydJLkFhI4VxA",
        "colab_type": "code",
        "colab": {}
      },
      "cell_type": "code",
      "source": [
        "!apt install graphviz\n",
        "!pip install pydot pydot-ng\n",
        "!echo \"Double check with Python 3\"\n",
        "!python -c \"import pydot\""
      ],
      "execution_count": 0,
      "outputs": []
    },
    {
      "metadata": {
        "id": "WAHqk8qtTWYv",
        "colab_type": "text"
      },
      "cell_type": "markdown",
      "source": [
        "## Introduction to Artificial Neural Networks\n",
        "\n",
        "This tutorial covers:\n",
        "- What is an ANN?\n",
        "- How to build one?\n",
        "- How to train one?\n",
        "- How do I use the trained ANN?\n",
        "\n",
        "### What is an ANN?\n",
        "\n",
        "Before I begin with the introduction, I highly recommend 3B1B's series on Neural Networks as they are very in depth and intuitive in their explainations of what and how a ANN works.\n",
        "\n",
        "[3b1b Neural Network Series](https://https://www.youtube.com/watch?v=aircAruvnKk)\n",
        "\n",
        "A neural network is essentially a weighted sum inference algorithm. It in as input a predefined set of numbers and then assigns a `weight` to each number and outputs another number based on the total weight calculation.\n",
        "\n",
        "![Image of a Neuron (from KDNuggets)](https://ujwlkarn.files.wordpress.com/2016/08/screen-shot-2016-08-09-at-3-42-21-am.png)\n",
        "\n",
        "A series of these neurons make one layer in a neural network and a series of layers make a network.\n",
        "\n",
        "![Neural Network from KDNuggets](https://ujwlkarn.files.wordpress.com/2016/08/screen-shot-2016-08-09-at-4-19-50-am.png)\n",
        "\n",
        "Repeated stacking of these layers is called `Deep Learning`\n",
        "\n",
        "\n",
        "### The Project\n",
        "\n",
        "In this tutorial we will use a neural network to perform a simple task. Given an array size *5* with numbers who continuously range from *n* to *m* (*n* and *m* range from -100 to 100) one number from that continuous range is missing. The neural network will try and figure it out.\n",
        "\n",
        "While this problem is best solved using a non machine learning algorithm this is still a good problem to try and solve to learn the basics of neural networks for the following reasons:\n",
        "\n",
        "- We do not need to worry about collecting data as we can generate infinitely many data points\n",
        "- We can manipulate the dimensions of our data easily to fit our problem\n",
        "- The network will be easy to train\n",
        "\n",
        "### The code\n",
        "\n",
        "First to begin we will import all the packages needed to develop the network"
      ]
    },
    {
      "metadata": {
        "id": "7HI_lb0RkLsV",
        "colab_type": "code",
        "colab": {}
      },
      "cell_type": "code",
      "source": [
        "from sklearn.model_selection import train_test_split\n",
        "from keras.optimizers import Adam, RMSprop\n",
        "from keras.models import Sequential\n",
        "from keras.layers import Dense\n",
        "from keras import metrics\n",
        "import pandas as pd\n",
        "import random as rd\n",
        "import numpy as np\n",
        "\n",
        "from keras.utils.vis_utils import plot_model"
      ],
      "execution_count": 0,
      "outputs": []
    },
    {
      "metadata": {
        "id": "zVbS9wxWTZ71",
        "colab_type": "text"
      },
      "cell_type": "markdown",
      "source": [
        "These are constants that will be referenced throughout the project.\n",
        "\n",
        "Constants such as `BATCH_SIZE`, `NUM_EPOCHS`, `TRAIN_SIZE`, `TEST_SIZE` and `VALIDATION_SIZE` are called **hyperparameters**. These are parameters that do not change during training."
      ]
    },
    {
      "metadata": {
        "id": "l--yV7bNQmMS",
        "colab_type": "code",
        "colab": {}
      },
      "cell_type": "code",
      "source": [
        "DATASET_SIZE = 1000000\n",
        "MAX_RANGE = 100\n",
        "MIN_RANGE = -100\n",
        "BATCH_SIZE = 25\n",
        "TEST_SIZE = 0.2\n",
        "VALIDATION_SIZE=0.33\n",
        "NUM_EPOCHS = 50\n",
        "ARR_SIZE = 5"
      ],
      "execution_count": 0,
      "outputs": []
    },
    {
      "metadata": {
        "id": "rbw_Idm-TalU",
        "colab_type": "text"
      },
      "cell_type": "markdown",
      "source": [
        "### Generating our dataset\n",
        "\n",
        "We will generate our dataset  as described above"
      ]
    },
    {
      "metadata": {
        "id": "2o2Q2DQJovro",
        "colab_type": "code",
        "outputId": "a65d5056-a000-4f39-d4b3-59d313f87a1f",
        "colab": {
          "base_uri": "https://localhost:8080/",
          "height": 51
        }
      },
      "cell_type": "code",
      "source": [
        "%time\n",
        "\n",
        "dataset = []\n",
        "\n",
        "for _ in range(DATASET_SIZE):\n",
        "    tmp_inp = []\n",
        "    start_int = rd.randint(MIN_RANGE, MAX_RANGE)\n",
        "    \n",
        "    for i in range(ARR_SIZE + 1):\n",
        "        tmp_inp.append(start_int)\n",
        "        start_int = start_int + 1\n",
        "\n",
        "    rand_index = rd.randint(0, ARR_SIZE)\n",
        "    output = tmp_inp.pop(rand_index)\n",
        "    rd.shuffle(tmp_inp)\n",
        "    tmp_inp.append(output)\n",
        "    dataset.append(tmp_inp)"
      ],
      "execution_count": 34,
      "outputs": [
        {
          "output_type": "stream",
          "text": [
            "CPU times: user 3 µs, sys: 0 ns, total: 3 µs\n",
            "Wall time: 6.44 µs\n"
          ],
          "name": "stdout"
        }
      ]
    },
    {
      "metadata": {
        "id": "wZ0aQfG2Tb_X",
        "colab_type": "text"
      },
      "cell_type": "markdown",
      "source": [
        "We will convert our list of lists into a Pandas DataFrame. Panda DataFrames are easier to use and feed into a neural network"
      ]
    },
    {
      "metadata": {
        "id": "_9cxCbQJ62WV",
        "colab_type": "code",
        "colab": {}
      },
      "cell_type": "code",
      "source": [
        "df = pd.DataFrame(dataset, columns=['v1', 'v2', 'v3', 'v4', 'v5','out'])"
      ],
      "execution_count": 0,
      "outputs": []
    },
    {
      "metadata": {
        "id": "cyKoJydc7JBR",
        "colab_type": "code",
        "outputId": "6560a4e8-a605-4897-cf7a-db7536cb527b",
        "colab": {
          "base_uri": "https://localhost:8080/",
          "height": 204
        }
      },
      "cell_type": "code",
      "source": [
        "df.head()"
      ],
      "execution_count": 36,
      "outputs": [
        {
          "output_type": "execute_result",
          "data": {
            "text/html": [
              "<div>\n",
              "<style scoped>\n",
              "    .dataframe tbody tr th:only-of-type {\n",
              "        vertical-align: middle;\n",
              "    }\n",
              "\n",
              "    .dataframe tbody tr th {\n",
              "        vertical-align: top;\n",
              "    }\n",
              "\n",
              "    .dataframe thead th {\n",
              "        text-align: right;\n",
              "    }\n",
              "</style>\n",
              "<table border=\"1\" class=\"dataframe\">\n",
              "  <thead>\n",
              "    <tr style=\"text-align: right;\">\n",
              "      <th></th>\n",
              "      <th>v1</th>\n",
              "      <th>v2</th>\n",
              "      <th>v3</th>\n",
              "      <th>v4</th>\n",
              "      <th>v5</th>\n",
              "      <th>out</th>\n",
              "    </tr>\n",
              "  </thead>\n",
              "  <tbody>\n",
              "    <tr>\n",
              "      <th>0</th>\n",
              "      <td>-84</td>\n",
              "      <td>-89</td>\n",
              "      <td>-85</td>\n",
              "      <td>-88</td>\n",
              "      <td>-87</td>\n",
              "      <td>-86</td>\n",
              "    </tr>\n",
              "    <tr>\n",
              "      <th>1</th>\n",
              "      <td>43</td>\n",
              "      <td>40</td>\n",
              "      <td>42</td>\n",
              "      <td>44</td>\n",
              "      <td>45</td>\n",
              "      <td>41</td>\n",
              "    </tr>\n",
              "    <tr>\n",
              "      <th>2</th>\n",
              "      <td>59</td>\n",
              "      <td>58</td>\n",
              "      <td>56</td>\n",
              "      <td>57</td>\n",
              "      <td>60</td>\n",
              "      <td>61</td>\n",
              "    </tr>\n",
              "    <tr>\n",
              "      <th>3</th>\n",
              "      <td>58</td>\n",
              "      <td>56</td>\n",
              "      <td>55</td>\n",
              "      <td>54</td>\n",
              "      <td>59</td>\n",
              "      <td>57</td>\n",
              "    </tr>\n",
              "    <tr>\n",
              "      <th>4</th>\n",
              "      <td>82</td>\n",
              "      <td>86</td>\n",
              "      <td>85</td>\n",
              "      <td>83</td>\n",
              "      <td>81</td>\n",
              "      <td>84</td>\n",
              "    </tr>\n",
              "  </tbody>\n",
              "</table>\n",
              "</div>"
            ],
            "text/plain": [
              "   v1  v2  v3  v4  v5  out\n",
              "0 -84 -89 -85 -88 -87  -86\n",
              "1  43  40  42  44  45   41\n",
              "2  59  58  56  57  60   61\n",
              "3  58  56  55  54  59   57\n",
              "4  82  86  85  83  81   84"
            ]
          },
          "metadata": {
            "tags": []
          },
          "execution_count": 36
        }
      ]
    },
    {
      "metadata": {
        "id": "fPN51G1_Tdv0",
        "colab_type": "text"
      },
      "cell_type": "markdown",
      "source": [
        "Now we can split our data into inputs and outputs"
      ]
    },
    {
      "metadata": {
        "id": "-mAHFQuljSRj",
        "colab_type": "code",
        "colab": {}
      },
      "cell_type": "code",
      "source": [
        "X, y = df.iloc[:, 0:5].values, df.iloc[:, 5].values "
      ],
      "execution_count": 0,
      "outputs": []
    },
    {
      "metadata": {
        "id": "acfzBdKfTfIl",
        "colab_type": "text"
      },
      "cell_type": "markdown",
      "source": [
        "A ML algorithm needs two types of datasets, a training set and a test set\n",
        "\n",
        "A **training set** is what the network uses to learn and understand the data\n",
        "\n",
        "A **test set** is what the network uses to see if it understood the data properly\n",
        "\n",
        "\n",
        "We will split our **X, y** data into train and test sets"
      ]
    },
    {
      "metadata": {
        "id": "_HZHRoPoofwE",
        "colab_type": "code",
        "colab": {}
      },
      "cell_type": "code",
      "source": [
        "# Split training / val / test\n",
        "X_train, X_test, y_train, y_test = train_test_split(X, y, test_size=TEST_SIZE)"
      ],
      "execution_count": 0,
      "outputs": []
    },
    {
      "metadata": {
        "id": "zM28bCXXTgF-",
        "colab_type": "text"
      },
      "cell_type": "markdown",
      "source": [
        "### Creating our Neural Network\n",
        "\n",
        "Now we can define our neural network"
      ]
    },
    {
      "metadata": {
        "id": "249493mJuUWf",
        "colab_type": "code",
        "colab": {}
      },
      "cell_type": "code",
      "source": [
        "model = Sequential()\n",
        "model.add(Dense(16, input_dim=ARR_SIZE, activation='relu'))\n",
        "model.add(Dense(32, activation='relu'))\n",
        "model.add(Dense(32, activation='relu'))\n",
        "model.add(Dense(12, activation='relu'))\n",
        "model.add(Dense(8, activation='relu'))\n",
        "model.add(Dense(4, activation='relu'))\n",
        "model.add(Dense(1))"
      ],
      "execution_count": 0,
      "outputs": []
    },
    {
      "metadata": {
        "id": "z_x3CjTx4l9s",
        "colab_type": "code",
        "colab": {
          "base_uri": "https://localhost:8080/",
          "height": 374
        },
        "outputId": "023a1a41-68bb-45b0-aff2-c897afce629b"
      },
      "cell_type": "code",
      "source": [
        "model.summary()"
      ],
      "execution_count": 40,
      "outputs": [
        {
          "output_type": "stream",
          "text": [
            "_________________________________________________________________\n",
            "Layer (type)                 Output Shape              Param #   \n",
            "=================================================================\n",
            "dense_19 (Dense)             (None, 16)                96        \n",
            "_________________________________________________________________\n",
            "dense_20 (Dense)             (None, 32)                544       \n",
            "_________________________________________________________________\n",
            "dense_21 (Dense)             (None, 32)                1056      \n",
            "_________________________________________________________________\n",
            "dense_22 (Dense)             (None, 12)                396       \n",
            "_________________________________________________________________\n",
            "dense_23 (Dense)             (None, 8)                 104       \n",
            "_________________________________________________________________\n",
            "dense_24 (Dense)             (None, 4)                 36        \n",
            "_________________________________________________________________\n",
            "dense_25 (Dense)             (None, 1)                 5         \n",
            "=================================================================\n",
            "Total params: 2,237\n",
            "Trainable params: 2,237\n",
            "Non-trainable params: 0\n",
            "_________________________________________________________________\n"
          ],
          "name": "stdout"
        }
      ]
    },
    {
      "metadata": {
        "id": "GYoA1HrVu_WD",
        "colab_type": "code",
        "colab": {
          "base_uri": "https://localhost:8080/",
          "height": 434
        },
        "outputId": "49e5196d-9461-4a74-e237-e6413419f866"
      },
      "cell_type": "code",
      "source": [
        "# Plot model graph\n",
        "plot_model(model, show_shapes=True, show_layer_names=True, to_file='model.png')\n",
        "from IPython.display import Image\n",
        "Image(retina=True, filename='model.png')"
      ],
      "execution_count": 41,
      "outputs": [
        {
          "output_type": "execute_result",
          "data": {
            "image/png": "[encoded data removed]",
            "text/plain": [
              "<IPython.core.display.Image object>"
            ]
          },
          "metadata": {
            "tags": [],
            "image/png": {
              "width": 173,
              "height": 417
            }
          },
          "execution_count": 41
        }
      ]
    },
    {
      "metadata": {
        "id": "TTmHpdbbThxJ",
        "colab_type": "text"
      },
      "cell_type": "markdown",
      "source": [
        ""
      ]
    },
    {
      "metadata": {
        "id": "Gvz17iACv4GK",
        "colab_type": "code",
        "colab": {}
      },
      "cell_type": "code",
      "source": [
        "model.compile(loss='mean_squared_error', optimizer=Adam(), metrics=[metrics.mae])"
      ],
      "execution_count": 0,
      "outputs": []
    },
    {
      "metadata": {
        "id": "0IERL7uewCXF",
        "colab_type": "code",
        "outputId": "4ddcd52f-d3d3-4646-af66-19933cf18153",
        "colab": {
          "base_uri": "https://localhost:8080/",
          "height": 1340
        }
      },
      "cell_type": "code",
      "source": [
        "%time\n",
        "model.fit(X_train, y_train, validation_split=VALIDATION_SIZE, epochs=NUM_EPOCHS, batch_size=BATCH_SIZE, verbose=1)"
      ],
      "execution_count": 24,
      "outputs": [
        {
          "output_type": "stream",
          "text": [
            "Train on 536000 samples, validate on 264000 samples\n",
            "Epoch 1/50\n",
            "536000/536000 [==============================] - 165s 307us/step - loss: 12.2304 - mean_absolute_error: 1.9745 - val_loss: 4.3615 - val_mean_absolute_error: 1.8072\n",
            "Epoch 2/50\n",
            "536000/536000 [==============================] - 166s 310us/step - loss: 4.5602 - mean_absolute_error: 1.8344 - val_loss: 4.8832 - val_mean_absolute_error: 1.8760\n",
            "Epoch 3/50\n",
            "536000/536000 [==============================] - 166s 310us/step - loss: 4.5152 - mean_absolute_error: 1.8182 - val_loss: 4.1637 - val_mean_absolute_error: 1.7696\n",
            "Epoch 4/50\n",
            "536000/536000 [==============================] - 166s 309us/step - loss: 4.4405 - mean_absolute_error: 1.7867 - val_loss: 4.0805 - val_mean_absolute_error: 1.7384\n",
            "Epoch 5/50\n",
            "536000/536000 [==============================] - 165s 307us/step - loss: 4.3312 - mean_absolute_error: 1.7399 - val_loss: 4.8874 - val_mean_absolute_error: 1.8218\n",
            "Epoch 6/50\n",
            "536000/536000 [==============================] - 176s 329us/step - loss: 4.1802 - mean_absolute_error: 1.6740 - val_loss: 4.2106 - val_mean_absolute_error: 1.6649\n",
            "Epoch 7/50\n",
            "536000/536000 [==============================] - 170s 318us/step - loss: 3.9848 - mean_absolute_error: 1.5867 - val_loss: 4.0432 - val_mean_absolute_error: 1.5868\n",
            "Epoch 8/50\n",
            "536000/536000 [==============================] - 167s 311us/step - loss: 3.8328 - mean_absolute_error: 1.5134 - val_loss: 3.5158 - val_mean_absolute_error: 1.4212\n",
            "Epoch 9/50\n",
            "536000/536000 [==============================] - 165s 307us/step - loss: 3.7312 - mean_absolute_error: 1.4694 - val_loss: 3.8794 - val_mean_absolute_error: 1.4905\n",
            "Epoch 10/50\n",
            "536000/536000 [==============================] - 166s 310us/step - loss: 3.6851 - mean_absolute_error: 1.4488 - val_loss: 4.4551 - val_mean_absolute_error: 1.6410\n",
            "Epoch 11/50\n",
            "536000/536000 [==============================] - 164s 306us/step - loss: 3.6593 - mean_absolute_error: 1.4357 - val_loss: 3.3770 - val_mean_absolute_error: 1.3517\n",
            "Epoch 12/50\n",
            "536000/536000 [==============================] - 165s 308us/step - loss: 3.6085 - mean_absolute_error: 1.4179 - val_loss: 3.5797 - val_mean_absolute_error: 1.4156\n",
            "Epoch 13/50\n",
            "536000/536000 [==============================] - 168s 314us/step - loss: 3.5860 - mean_absolute_error: 1.4072 - val_loss: 4.0970 - val_mean_absolute_error: 1.5454\n",
            "Epoch 14/50\n",
            "536000/536000 [==============================] - 174s 325us/step - loss: 3.5679 - mean_absolute_error: 1.3979 - val_loss: 3.6011 - val_mean_absolute_error: 1.4010\n",
            "Epoch 15/50\n",
            "536000/536000 [==============================] - 171s 319us/step - loss: 3.5466 - mean_absolute_error: 1.3885 - val_loss: 3.8683 - val_mean_absolute_error: 1.4876\n",
            "Epoch 16/50\n",
            "227525/536000 [===========>..................] - ETA: 1:29 - loss: 3.5299 - mean_absolute_error: 1.3817"
          ],
          "name": "stdout"
        },
        {
          "output_type": "error",
          "ename": "KeyboardInterrupt",
          "evalue": "ignored",
          "traceback": [
            "\u001b[0;31m---------------------------------------------------------------------------\u001b[0m",
            "\u001b[0;31mKeyboardInterrupt\u001b[0m                         Traceback (most recent call last)",
            "\u001b[0;32m<ipython-input-24-5c27f917c835>\u001b[0m in \u001b[0;36m<module>\u001b[0;34m()\u001b[0m\n\u001b[0;32m----> 1\u001b[0;31m \u001b[0mmodel\u001b[0m\u001b[0;34m.\u001b[0m\u001b[0mfit\u001b[0m\u001b[0;34m(\u001b[0m\u001b[0mX_train\u001b[0m\u001b[0;34m,\u001b[0m \u001b[0my_train\u001b[0m\u001b[0;34m,\u001b[0m \u001b[0mvalidation_split\u001b[0m\u001b[0;34m=\u001b[0m\u001b[0mVALIDATION_SIZE\u001b[0m\u001b[0;34m,\u001b[0m \u001b[0mepochs\u001b[0m\u001b[0;34m=\u001b[0m\u001b[0mNUM_EPOCHS\u001b[0m\u001b[0;34m,\u001b[0m \u001b[0mbatch_size\u001b[0m\u001b[0;34m=\u001b[0m\u001b[0mBATCH_SIZE\u001b[0m\u001b[0;34m,\u001b[0m \u001b[0mverbose\u001b[0m\u001b[0;34m=\u001b[0m\u001b[0;36m1\u001b[0m\u001b[0;34m)\u001b[0m\u001b[0;34m\u001b[0m\u001b[0;34m\u001b[0m\u001b[0m\n\u001b[0m",
            "\u001b[0;32m/usr/local/lib/python3.6/dist-packages/keras/engine/training.py\u001b[0m in \u001b[0;36mfit\u001b[0;34m(self, x, y, batch_size, epochs, verbose, callbacks, validation_split, validation_data, shuffle, class_weight, sample_weight, initial_epoch, steps_per_epoch, validation_steps, **kwargs)\u001b[0m\n\u001b[1;32m   1037\u001b[0m                                         \u001b[0minitial_epoch\u001b[0m\u001b[0;34m=\u001b[0m\u001b[0minitial_epoch\u001b[0m\u001b[0;34m,\u001b[0m\u001b[0;34m\u001b[0m\u001b[0;34m\u001b[0m\u001b[0m\n\u001b[1;32m   1038\u001b[0m                                         \u001b[0msteps_per_epoch\u001b[0m\u001b[0;34m=\u001b[0m\u001b[0msteps_per_epoch\u001b[0m\u001b[0;34m,\u001b[0m\u001b[0;34m\u001b[0m\u001b[0;34m\u001b[0m\u001b[0m\n\u001b[0;32m-> 1039\u001b[0;31m                                         validation_steps=validation_steps)\n\u001b[0m\u001b[1;32m   1040\u001b[0m \u001b[0;34m\u001b[0m\u001b[0m\n\u001b[1;32m   1041\u001b[0m     def evaluate(self, x=None, y=None,\n",
            "\u001b[0;32m/usr/local/lib/python3.6/dist-packages/keras/engine/training_arrays.py\u001b[0m in \u001b[0;36mfit_loop\u001b[0;34m(model, f, ins, out_labels, batch_size, epochs, verbose, callbacks, val_f, val_ins, shuffle, callback_metrics, initial_epoch, steps_per_epoch, validation_steps)\u001b[0m\n\u001b[1;32m    197\u001b[0m                     \u001b[0mins_batch\u001b[0m\u001b[0;34m[\u001b[0m\u001b[0mi\u001b[0m\u001b[0;34m]\u001b[0m \u001b[0;34m=\u001b[0m \u001b[0mins_batch\u001b[0m\u001b[0;34m[\u001b[0m\u001b[0mi\u001b[0m\u001b[0;34m]\u001b[0m\u001b[0;34m.\u001b[0m\u001b[0mtoarray\u001b[0m\u001b[0;34m(\u001b[0m\u001b[0;34m)\u001b[0m\u001b[0;34m\u001b[0m\u001b[0;34m\u001b[0m\u001b[0m\n\u001b[1;32m    198\u001b[0m \u001b[0;34m\u001b[0m\u001b[0m\n\u001b[0;32m--> 199\u001b[0;31m                 \u001b[0mouts\u001b[0m \u001b[0;34m=\u001b[0m \u001b[0mf\u001b[0m\u001b[0;34m(\u001b[0m\u001b[0mins_batch\u001b[0m\u001b[0;34m)\u001b[0m\u001b[0;34m\u001b[0m\u001b[0;34m\u001b[0m\u001b[0m\n\u001b[0m\u001b[1;32m    200\u001b[0m                 \u001b[0mouts\u001b[0m \u001b[0;34m=\u001b[0m \u001b[0mto_list\u001b[0m\u001b[0;34m(\u001b[0m\u001b[0mouts\u001b[0m\u001b[0;34m)\u001b[0m\u001b[0;34m\u001b[0m\u001b[0;34m\u001b[0m\u001b[0m\n\u001b[1;32m    201\u001b[0m                 \u001b[0;32mfor\u001b[0m \u001b[0ml\u001b[0m\u001b[0;34m,\u001b[0m \u001b[0mo\u001b[0m \u001b[0;32min\u001b[0m \u001b[0mzip\u001b[0m\u001b[0;34m(\u001b[0m\u001b[0mout_labels\u001b[0m\u001b[0;34m,\u001b[0m \u001b[0mouts\u001b[0m\u001b[0;34m)\u001b[0m\u001b[0;34m:\u001b[0m\u001b[0;34m\u001b[0m\u001b[0;34m\u001b[0m\u001b[0m\n",
            "\u001b[0;32m/usr/local/lib/python3.6/dist-packages/keras/backend/tensorflow_backend.py\u001b[0m in \u001b[0;36m__call__\u001b[0;34m(self, inputs)\u001b[0m\n\u001b[1;32m   2713\u001b[0m                 \u001b[0;32mreturn\u001b[0m \u001b[0mself\u001b[0m\u001b[0;34m.\u001b[0m\u001b[0m_legacy_call\u001b[0m\u001b[0;34m(\u001b[0m\u001b[0minputs\u001b[0m\u001b[0;34m)\u001b[0m\u001b[0;34m\u001b[0m\u001b[0;34m\u001b[0m\u001b[0m\n\u001b[1;32m   2714\u001b[0m \u001b[0;34m\u001b[0m\u001b[0m\n\u001b[0;32m-> 2715\u001b[0;31m             \u001b[0;32mreturn\u001b[0m \u001b[0mself\u001b[0m\u001b[0;34m.\u001b[0m\u001b[0m_call\u001b[0m\u001b[0;34m(\u001b[0m\u001b[0minputs\u001b[0m\u001b[0;34m)\u001b[0m\u001b[0;34m\u001b[0m\u001b[0;34m\u001b[0m\u001b[0m\n\u001b[0m\u001b[1;32m   2716\u001b[0m         \u001b[0;32melse\u001b[0m\u001b[0;34m:\u001b[0m\u001b[0;34m\u001b[0m\u001b[0;34m\u001b[0m\u001b[0m\n\u001b[1;32m   2717\u001b[0m             \u001b[0;32mif\u001b[0m \u001b[0mpy_any\u001b[0m\u001b[0;34m(\u001b[0m\u001b[0mis_tensor\u001b[0m\u001b[0;34m(\u001b[0m\u001b[0mx\u001b[0m\u001b[0;34m)\u001b[0m \u001b[0;32mfor\u001b[0m \u001b[0mx\u001b[0m \u001b[0;32min\u001b[0m \u001b[0minputs\u001b[0m\u001b[0;34m)\u001b[0m\u001b[0;34m:\u001b[0m\u001b[0;34m\u001b[0m\u001b[0;34m\u001b[0m\u001b[0m\n",
            "\u001b[0;32m/usr/local/lib/python3.6/dist-packages/keras/backend/tensorflow_backend.py\u001b[0m in \u001b[0;36m_call\u001b[0;34m(self, inputs)\u001b[0m\n\u001b[1;32m   2673\u001b[0m             \u001b[0mfetched\u001b[0m \u001b[0;34m=\u001b[0m \u001b[0mself\u001b[0m\u001b[0;34m.\u001b[0m\u001b[0m_callable_fn\u001b[0m\u001b[0;34m(\u001b[0m\u001b[0;34m*\u001b[0m\u001b[0marray_vals\u001b[0m\u001b[0;34m,\u001b[0m \u001b[0mrun_metadata\u001b[0m\u001b[0;34m=\u001b[0m\u001b[0mself\u001b[0m\u001b[0;34m.\u001b[0m\u001b[0mrun_metadata\u001b[0m\u001b[0;34m)\u001b[0m\u001b[0;34m\u001b[0m\u001b[0;34m\u001b[0m\u001b[0m\n\u001b[1;32m   2674\u001b[0m         \u001b[0;32melse\u001b[0m\u001b[0;34m:\u001b[0m\u001b[0;34m\u001b[0m\u001b[0;34m\u001b[0m\u001b[0m\n\u001b[0;32m-> 2675\u001b[0;31m             \u001b[0mfetched\u001b[0m \u001b[0;34m=\u001b[0m \u001b[0mself\u001b[0m\u001b[0;34m.\u001b[0m\u001b[0m_callable_fn\u001b[0m\u001b[0;34m(\u001b[0m\u001b[0;34m*\u001b[0m\u001b[0marray_vals\u001b[0m\u001b[0;34m)\u001b[0m\u001b[0;34m\u001b[0m\u001b[0;34m\u001b[0m\u001b[0m\n\u001b[0m\u001b[1;32m   2676\u001b[0m         \u001b[0;32mreturn\u001b[0m \u001b[0mfetched\u001b[0m\u001b[0;34m[\u001b[0m\u001b[0;34m:\u001b[0m\u001b[0mlen\u001b[0m\u001b[0;34m(\u001b[0m\u001b[0mself\u001b[0m\u001b[0;34m.\u001b[0m\u001b[0moutputs\u001b[0m\u001b[0;34m)\u001b[0m\u001b[0;34m]\u001b[0m\u001b[0;34m\u001b[0m\u001b[0;34m\u001b[0m\u001b[0m\n\u001b[1;32m   2677\u001b[0m \u001b[0;34m\u001b[0m\u001b[0m\n",
            "\u001b[0;32m/usr/local/lib/python3.6/dist-packages/tensorflow/python/client/session.py\u001b[0m in \u001b[0;36m__call__\u001b[0;34m(self, *args, **kwargs)\u001b[0m\n\u001b[1;32m   1437\u001b[0m           ret = tf_session.TF_SessionRunCallable(\n\u001b[1;32m   1438\u001b[0m               \u001b[0mself\u001b[0m\u001b[0;34m.\u001b[0m\u001b[0m_session\u001b[0m\u001b[0;34m.\u001b[0m\u001b[0m_session\u001b[0m\u001b[0;34m,\u001b[0m \u001b[0mself\u001b[0m\u001b[0;34m.\u001b[0m\u001b[0m_handle\u001b[0m\u001b[0;34m,\u001b[0m \u001b[0margs\u001b[0m\u001b[0;34m,\u001b[0m \u001b[0mstatus\u001b[0m\u001b[0;34m,\u001b[0m\u001b[0;34m\u001b[0m\u001b[0;34m\u001b[0m\u001b[0m\n\u001b[0;32m-> 1439\u001b[0;31m               run_metadata_ptr)\n\u001b[0m\u001b[1;32m   1440\u001b[0m         \u001b[0;32mif\u001b[0m \u001b[0mrun_metadata\u001b[0m\u001b[0;34m:\u001b[0m\u001b[0;34m\u001b[0m\u001b[0;34m\u001b[0m\u001b[0m\n\u001b[1;32m   1441\u001b[0m           \u001b[0mproto_data\u001b[0m \u001b[0;34m=\u001b[0m \u001b[0mtf_session\u001b[0m\u001b[0;34m.\u001b[0m\u001b[0mTF_GetBuffer\u001b[0m\u001b[0;34m(\u001b[0m\u001b[0mrun_metadata_ptr\u001b[0m\u001b[0;34m)\u001b[0m\u001b[0;34m\u001b[0m\u001b[0;34m\u001b[0m\u001b[0m\n",
            "\u001b[0;31mKeyboardInterrupt\u001b[0m: "
          ]
        }
      ]
    },
    {
      "metadata": {
        "id": "tT8BUdvFTj8l",
        "colab_type": "text"
      },
      "cell_type": "markdown",
      "source": [
        ""
      ]
    },
    {
      "metadata": {
        "id": "OOuf_z-iwPUi",
        "colab_type": "code",
        "colab": {}
      },
      "cell_type": "code",
      "source": [
        "scores = model.evaluate(X_test, y_test)"
      ],
      "execution_count": 0,
      "outputs": []
    },
    {
      "metadata": {
        "id": "6aEFkDS5NnVh",
        "colab_type": "code",
        "colab": {}
      },
      "cell_type": "code",
      "source": [
        "scores[1]"
      ],
      "execution_count": 0,
      "outputs": []
    },
    {
      "metadata": {
        "id": "rPYtlYn7TlcK",
        "colab_type": "text"
      },
      "cell_type": "markdown",
      "source": [
        ""
      ]
    },
    {
      "metadata": {
        "id": "HA0cPCKOPMAN",
        "colab_type": "code",
        "colab": {}
      },
      "cell_type": "code",
      "source": [
        "model.predict(np.array([[1,2,3,6,5]]))"
      ],
      "execution_count": 0,
      "outputs": []
    }
  ]
}