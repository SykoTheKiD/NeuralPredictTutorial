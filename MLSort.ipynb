{
  "nbformat": 4,
  "nbformat_minor": 0,
  "metadata": {
    "colab": {
      "name": "MLSort.ipynb",
      "version": "0.3.2",
      "provenance": [],
      "collapsed_sections": [],
      "include_colab_link": true
    },
    "kernelspec": {
      "name": "python3",
      "display_name": "Python 3"
    },
    "accelerator": "GPU"
  },
  "cells": [
    {
      "cell_type": "markdown",
      "metadata": {
        "id": "view-in-github",
        "colab_type": "text"
      },
      "source": [
        "<a href=\"https://colab.research.google.com/github/SykoTheKiD/NeuralPredictTutorial/blob/master/MLSort.ipynb\" target=\"_parent\"><img src=\"https://colab.research.google.com/assets/colab-badge.svg\" alt=\"Open In Colab\"/></a>"
      ]
    },
    {
      "metadata": {
        "id": "ydJLkFhI4VxA",
        "colab_type": "code",
        "outputId": "8d79d009-c42f-4386-9e63-1b56dfb7c261",
        "colab": {
          "base_uri": "https://localhost:8080/",
          "height": 184
        }
      },
      "cell_type": "code",
      "source": [
        "!apt install graphviz\n",
        "!pip install pydot pydot-ng"
      ],
      "execution_count": 1,
      "outputs": [
        {
          "output_type": "stream",
          "text": [
            "Reading package lists... Done\n",
            "Building dependency tree       \n",
            "Reading state information... Done\n",
            "graphviz is already the newest version (2.40.1-2).\n",
            "0 upgraded, 0 newly installed, 0 to remove and 13 not upgraded.\n",
            "Requirement already satisfied: pydot in /usr/local/lib/python3.6/dist-packages (1.3.0)\n",
            "Requirement already satisfied: pydot-ng in /usr/local/lib/python3.6/dist-packages (2.0.0)\n",
            "Requirement already satisfied: pyparsing>=2.1.4 in /usr/local/lib/python3.6/dist-packages (from pydot) (2.3.1)\n"
          ],
          "name": "stdout"
        }
      ]
    },
    {
      "metadata": {
        "id": "WAHqk8qtTWYv",
        "colab_type": "text"
      },
      "cell_type": "markdown",
      "source": [
        "## Introduction to Artificial Neural Networks\n",
        "\n",
        "This tutorial covers:\n",
        "- What is an ANN?\n",
        "- How to build one?\n",
        "- How to train one?\n",
        "- How do I use the trained ANN?\n",
        "\n",
        "### What is an ANN?\n",
        "\n",
        "Before I begin with the introduction, I highly recommend 3B1B's series on Neural Networks as they are very in depth and intuitive in their explainations of what and how a ANN works.\n",
        "\n",
        "[3b1b Neural Network Series](https://https://www.youtube.com/watch?v=aircAruvnKk)\n",
        "\n",
        "A neural network is essentially a weighted sum inference algorithm. It in as input a predefined set of numbers and then assigns a `weight` to each number and outputs another number based on the total weight calculation.\n",
        "\n",
        "![Image of a Neuron (from KDNuggets)](https://ujwlkarn.files.wordpress.com/2016/08/screen-shot-2016-08-09-at-3-42-21-am.png)\n",
        "\n",
        "A series of these neurons make one layer in a neural network and a series of layers make a network.\n",
        "\n",
        "![Neural Network from KDNuggets](https://ujwlkarn.files.wordpress.com/2016/08/screen-shot-2016-08-09-at-4-19-50-am.png)\n",
        "\n",
        "Repeated stacking of these layers is called `Deep Learning`\n",
        "\n",
        "\n",
        "### The Project\n",
        "\n",
        "In this tutorial we will use a neural network to perform a simple task. Given an array size *5* with numbers who continuously range from *n* to *m* (*n* and *m* range from -100 to 100) one number from that continuous range is missing. The neural network will try and figure it out.\n",
        "\n",
        "While this problem is best solved using a non machine learning algorithm this is still a good problem to try and solve to learn the basics of neural networks for the following reasons:\n",
        "\n",
        "- We do not need to worry about collecting data as we can generate infinitely many data points\n",
        "- We can manipulate the dimensions of our data easily to fit our problem\n",
        "- The network will be easy to train\n",
        "\n",
        "### The code\n",
        "\n",
        "First to begin we will import all the packages needed to develop the network"
      ]
    },
    {
      "metadata": {
        "id": "7HI_lb0RkLsV",
        "colab_type": "code",
        "colab": {
          "base_uri": "https://localhost:8080/",
          "height": 34
        },
        "outputId": "616b1a5e-10b9-41e9-b3e3-8c6cae0bc378"
      },
      "cell_type": "code",
      "source": [
        "from sklearn.model_selection import train_test_split\n",
        "from keras.optimizers import Adam, RMSprop\n",
        "from keras.models import Sequential\n",
        "from keras.layers import Dense\n",
        "from keras import metrics\n",
        "import pandas as pd\n",
        "import random as rd\n",
        "import numpy as np\n",
        "\n",
        "from keras.utils.vis_utils import plot_model\n",
        "import matplotlib.pyplot as plt\n",
        "\n",
        "%matplotlib inline"
      ],
      "execution_count": 2,
      "outputs": [
        {
          "output_type": "stream",
          "text": [
            "Using TensorFlow backend.\n"
          ],
          "name": "stderr"
        }
      ]
    },
    {
      "metadata": {
        "id": "zVbS9wxWTZ71",
        "colab_type": "text"
      },
      "cell_type": "markdown",
      "source": [
        "These are constants that will be referenced throughout the project.\n",
        "\n",
        "Constants such as `BATCH_SIZE`, `NUM_EPOCHS`, `TRAIN_SIZE`, `TEST_SIZE` and `VALIDATION_SIZE` are called **hyperparameters**. These are parameters that do not change during training."
      ]
    },
    {
      "metadata": {
        "id": "l--yV7bNQmMS",
        "colab_type": "code",
        "colab": {}
      },
      "cell_type": "code",
      "source": [
        "DATASET_SIZE = 1000000\n",
        "MAX_RANGE = 100\n",
        "MIN_RANGE = -100\n",
        "BATCH_SIZE = 55\n",
        "TEST_SIZE = 0.2\n",
        "VALIDATION_SIZE=0.33\n",
        "NUM_EPOCHS = 50\n",
        "ARR_SIZE = 5"
      ],
      "execution_count": 0,
      "outputs": []
    },
    {
      "metadata": {
        "id": "rbw_Idm-TalU",
        "colab_type": "text"
      },
      "cell_type": "markdown",
      "source": [
        "### Generating our dataset\n",
        "\n",
        "We will generate our dataset  as described above"
      ]
    },
    {
      "metadata": {
        "id": "2o2Q2DQJovro",
        "colab_type": "code",
        "outputId": "db7bb4b1-0ca1-44bd-d326-6a384396585a",
        "colab": {
          "base_uri": "https://localhost:8080/",
          "height": 51
        }
      },
      "cell_type": "code",
      "source": [
        "%time\n",
        "\n",
        "dataset = []\n",
        "\n",
        "for _ in range(DATASET_SIZE):\n",
        "    tmp_inp = []\n",
        "    start_int = rd.randint(MIN_RANGE, MAX_RANGE)\n",
        "    \n",
        "    for i in range(ARR_SIZE + 1):\n",
        "        tmp_inp.append(start_int)\n",
        "        start_int = start_int + 1\n",
        "\n",
        "    rand_index = rd.randint(0, ARR_SIZE)\n",
        "    output = tmp_inp.pop(rand_index)\n",
        "    rd.shuffle(tmp_inp)\n",
        "    tmp_inp.append(output)\n",
        "    dataset.append(tmp_inp)"
      ],
      "execution_count": 4,
      "outputs": [
        {
          "output_type": "stream",
          "text": [
            "CPU times: user 3 µs, sys: 0 ns, total: 3 µs\n",
            "Wall time: 8.58 µs\n"
          ],
          "name": "stdout"
        }
      ]
    },
    {
      "metadata": {
        "id": "wZ0aQfG2Tb_X",
        "colab_type": "text"
      },
      "cell_type": "markdown",
      "source": [
        "We will convert our list of lists into a Pandas DataFrame. Panda DataFrames are easier to use and feed into a neural network"
      ]
    },
    {
      "metadata": {
        "id": "_9cxCbQJ62WV",
        "colab_type": "code",
        "colab": {}
      },
      "cell_type": "code",
      "source": [
        "df = pd.DataFrame(dataset, columns=['v1', 'v2', 'v3', 'v4', 'v5','out'])"
      ],
      "execution_count": 0,
      "outputs": []
    },
    {
      "metadata": {
        "id": "cyKoJydc7JBR",
        "colab_type": "code",
        "outputId": "fb77aae6-4b47-4c01-cf0a-ec5c439d2793",
        "colab": {
          "base_uri": "https://localhost:8080/",
          "height": 204
        }
      },
      "cell_type": "code",
      "source": [
        "df.head()"
      ],
      "execution_count": 6,
      "outputs": [
        {
          "output_type": "execute_result",
          "data": {
            "text/html": [
              "<div>\n",
              "<style scoped>\n",
              "    .dataframe tbody tr th:only-of-type {\n",
              "        vertical-align: middle;\n",
              "    }\n",
              "\n",
              "    .dataframe tbody tr th {\n",
              "        vertical-align: top;\n",
              "    }\n",
              "\n",
              "    .dataframe thead th {\n",
              "        text-align: right;\n",
              "    }\n",
              "</style>\n",
              "<table border=\"1\" class=\"dataframe\">\n",
              "  <thead>\n",
              "    <tr style=\"text-align: right;\">\n",
              "      <th></th>\n",
              "      <th>v1</th>\n",
              "      <th>v2</th>\n",
              "      <th>v3</th>\n",
              "      <th>v4</th>\n",
              "      <th>v5</th>\n",
              "      <th>out</th>\n",
              "    </tr>\n",
              "  </thead>\n",
              "  <tbody>\n",
              "    <tr>\n",
              "      <th>0</th>\n",
              "      <td>14</td>\n",
              "      <td>11</td>\n",
              "      <td>12</td>\n",
              "      <td>13</td>\n",
              "      <td>10</td>\n",
              "      <td>15</td>\n",
              "    </tr>\n",
              "    <tr>\n",
              "      <th>1</th>\n",
              "      <td>-94</td>\n",
              "      <td>-97</td>\n",
              "      <td>-96</td>\n",
              "      <td>-95</td>\n",
              "      <td>-92</td>\n",
              "      <td>-93</td>\n",
              "    </tr>\n",
              "    <tr>\n",
              "      <th>2</th>\n",
              "      <td>-42</td>\n",
              "      <td>-41</td>\n",
              "      <td>-46</td>\n",
              "      <td>-45</td>\n",
              "      <td>-44</td>\n",
              "      <td>-43</td>\n",
              "    </tr>\n",
              "    <tr>\n",
              "      <th>3</th>\n",
              "      <td>-7</td>\n",
              "      <td>-10</td>\n",
              "      <td>-6</td>\n",
              "      <td>-9</td>\n",
              "      <td>-5</td>\n",
              "      <td>-8</td>\n",
              "    </tr>\n",
              "    <tr>\n",
              "      <th>4</th>\n",
              "      <td>82</td>\n",
              "      <td>81</td>\n",
              "      <td>86</td>\n",
              "      <td>85</td>\n",
              "      <td>83</td>\n",
              "      <td>84</td>\n",
              "    </tr>\n",
              "  </tbody>\n",
              "</table>\n",
              "</div>"
            ],
            "text/plain": [
              "   v1  v2  v3  v4  v5  out\n",
              "0  14  11  12  13  10   15\n",
              "1 -94 -97 -96 -95 -92  -93\n",
              "2 -42 -41 -46 -45 -44  -43\n",
              "3  -7 -10  -6  -9  -5   -8\n",
              "4  82  81  86  85  83   84"
            ]
          },
          "metadata": {
            "tags": []
          },
          "execution_count": 6
        }
      ]
    },
    {
      "metadata": {
        "id": "fPN51G1_Tdv0",
        "colab_type": "text"
      },
      "cell_type": "markdown",
      "source": [
        "Now we can split our data into inputs and outputs"
      ]
    },
    {
      "metadata": {
        "id": "-mAHFQuljSRj",
        "colab_type": "code",
        "colab": {}
      },
      "cell_type": "code",
      "source": [
        "X, y = df.iloc[:, 0:5].values, df.iloc[:, 5].values "
      ],
      "execution_count": 0,
      "outputs": []
    },
    {
      "metadata": {
        "id": "acfzBdKfTfIl",
        "colab_type": "text"
      },
      "cell_type": "markdown",
      "source": [
        "A ML algorithm needs two types of datasets, a training set and a test set\n",
        "\n",
        "A **training set** is what the network uses to learn and understand the data\n",
        "\n",
        "A **test set** is what the network uses to see if it understood the data properly\n",
        "\n",
        "\n",
        "We will split our **X, y** data into train and test sets"
      ]
    },
    {
      "metadata": {
        "id": "_HZHRoPoofwE",
        "colab_type": "code",
        "colab": {}
      },
      "cell_type": "code",
      "source": [
        "# Split training / val / test\n",
        "X_train, X_test, y_train, y_test = train_test_split(X, y, test_size=TEST_SIZE)"
      ],
      "execution_count": 0,
      "outputs": []
    },
    {
      "metadata": {
        "id": "zM28bCXXTgF-",
        "colab_type": "text"
      },
      "cell_type": "markdown",
      "source": [
        "### Creating our Neural Network\n",
        "\n",
        "Now we can define our neural network"
      ]
    },
    {
      "metadata": {
        "id": "249493mJuUWf",
        "colab_type": "code",
        "colab": {}
      },
      "cell_type": "code",
      "source": [
        "model = Sequential()\n",
        "model.add(Dense(16, input_dim=ARR_SIZE, activation='relu'))\n",
        "model.add(Dense(32, activation='relu'))\n",
        "model.add(Dense(32, activation='relu'))\n",
        "model.add(Dense(12, activation='relu'))\n",
        "model.add(Dense(8, activation='relu'))\n",
        "model.add(Dense(4, activation='relu'))\n",
        "model.add(Dense(1))"
      ],
      "execution_count": 0,
      "outputs": []
    },
    {
      "metadata": {
        "id": "z_x3CjTx4l9s",
        "colab_type": "code",
        "outputId": "ecdc7e00-6933-4e34-ac1a-79f1510c6ff7",
        "colab": {
          "base_uri": "https://localhost:8080/",
          "height": 374
        }
      },
      "cell_type": "code",
      "source": [
        "model.summary()"
      ],
      "execution_count": 10,
      "outputs": [
        {
          "output_type": "stream",
          "text": [
            "_________________________________________________________________\n",
            "Layer (type)                 Output Shape              Param #   \n",
            "=================================================================\n",
            "dense_1 (Dense)              (None, 16)                96        \n",
            "_________________________________________________________________\n",
            "dense_2 (Dense)              (None, 32)                544       \n",
            "_________________________________________________________________\n",
            "dense_3 (Dense)              (None, 32)                1056      \n",
            "_________________________________________________________________\n",
            "dense_4 (Dense)              (None, 12)                396       \n",
            "_________________________________________________________________\n",
            "dense_5 (Dense)              (None, 8)                 104       \n",
            "_________________________________________________________________\n",
            "dense_6 (Dense)              (None, 4)                 36        \n",
            "_________________________________________________________________\n",
            "dense_7 (Dense)              (None, 1)                 5         \n",
            "=================================================================\n",
            "Total params: 2,237\n",
            "Trainable params: 2,237\n",
            "Non-trainable params: 0\n",
            "_________________________________________________________________\n"
          ],
          "name": "stdout"
        }
      ]
    },
    {
      "metadata": {
        "id": "GYoA1HrVu_WD",
        "colab_type": "code",
        "outputId": "4235fa10-fe76-4eef-c391-092831457aa4",
        "colab": {
          "base_uri": "https://localhost:8080/",
          "height": 434
        }
      },
      "cell_type": "code",
      "source": [
        "# Plot model graph\n",
        "plot_model(model, show_shapes=True, show_layer_names=True, to_file='model.png')\n",
        "from IPython.display import Image\n",
        "Image(retina=True, filename='model.png')"
      ],
      "execution_count": 11,
      "outputs": [
        {
          "output_type": "execute_result",
          "data": {
            "image/png": "[encoded data removed]",
            "text/plain": [
              "<IPython.core.display.Image object>"
            ]
          },
          "metadata": {
            "tags": [],
            "image/png": {
              "width": 168,
              "height": 417
            }
          },
          "execution_count": 11
        }
      ]
    },
    {
      "metadata": {
        "id": "TTmHpdbbThxJ",
        "colab_type": "text"
      },
      "cell_type": "markdown",
      "source": [
        "### Training our Model\n",
        "\n",
        "Now we are ready to feed in the training data into out model and train our neural network"
      ]
    },
    {
      "metadata": {
        "id": "Gvz17iACv4GK",
        "colab_type": "code",
        "colab": {}
      },
      "cell_type": "code",
      "source": [
        "model.compile(loss='mean_squared_error', optimizer=Adam(), metrics=[metrics.mse, 'accuracy'])"
      ],
      "execution_count": 0,
      "outputs": []
    },
    {
      "metadata": {
        "id": "0IERL7uewCXF",
        "colab_type": "code",
        "outputId": "db9d8873-9932-40b6-c843-7f21a6bfe9f6",
        "colab": {
          "base_uri": "https://localhost:8080/",
          "height": 1482
        }
      },
      "cell_type": "code",
      "source": [
        "%time\n",
        "history = model.fit(X_train, y_train, validation_split=VALIDATION_SIZE, epochs=NUM_EPOCHS, batch_size=BATCH_SIZE, verbose=1)"
      ],
      "execution_count": 13,
      "outputs": [
        {
          "output_type": "stream",
          "text": [
            "CPU times: user 4 µs, sys: 0 ns, total: 4 µs\n",
            "Wall time: 8.82 µs\n",
            "Train on 536000 samples, validate on 264000 samples\n",
            "Epoch 1/50\n",
            "536000/536000 [==============================] - 75s 141us/step - loss: 1352.8162 - mean_squared_error: 1352.8162 - acc: 0.0766 - val_loss: 1153.3940 - val_mean_squared_error: 1153.3940 - val_acc: 0.0817\n",
            "Epoch 2/50\n",
            "536000/536000 [==============================] - 75s 141us/step - loss: 984.0781 - mean_squared_error: 984.0781 - acc: 0.0929 - val_loss: 825.7893 - val_mean_squared_error: 825.7893 - val_acc: 0.1111\n",
            "Epoch 3/50\n",
            "536000/536000 [==============================] - 71s 132us/step - loss: 693.3091 - mean_squared_error: 693.3091 - acc: 0.1247 - val_loss: 569.1556 - val_mean_squared_error: 569.1556 - val_acc: 0.1645\n",
            "Epoch 4/50\n",
            "536000/536000 [==============================] - 73s 137us/step - loss: 467.6035 - mean_squared_error: 467.6035 - acc: 0.1687 - val_loss: 373.5243 - val_mean_squared_error: 373.5243 - val_acc: 0.1842\n",
            "Epoch 5/50\n",
            "536000/536000 [==============================] - 73s 137us/step - loss: 299.0374 - mean_squared_error: 299.0374 - acc: 0.1990 - val_loss: 231.0462 - val_mean_squared_error: 231.0462 - val_acc: 0.2110\n",
            "Epoch 6/50\n",
            "536000/536000 [==============================] - 75s 139us/step - loss: 178.5065 - mean_squared_error: 178.5065 - acc: 0.2255 - val_loss: 131.3887 - val_mean_squared_error: 131.3887 - val_acc: 0.2460\n",
            "Epoch 7/50\n",
            "536000/536000 [==============================] - 72s 135us/step - loss: 97.5262 - mean_squared_error: 97.5262 - acc: 0.2472 - val_loss: 67.2554 - val_mean_squared_error: 67.2554 - val_acc: 0.3233\n",
            "Epoch 8/50\n",
            "536000/536000 [==============================] - 74s 138us/step - loss: 47.5305 - mean_squared_error: 47.5305 - acc: 0.2648 - val_loss: 30.9983 - val_mean_squared_error: 30.9983 - val_acc: 0.1348\n",
            "Epoch 9/50\n",
            "536000/536000 [==============================] - 74s 139us/step - loss: 20.5343 - mean_squared_error: 20.5343 - acc: 0.2853 - val_loss: 12.6542 - val_mean_squared_error: 12.6542 - val_acc: 0.2787\n",
            "Epoch 10/50\n",
            "536000/536000 [==============================] - 73s 136us/step - loss: 8.7853 - mean_squared_error: 8.7853 - acc: 0.3037 - val_loss: 5.7620 - val_mean_squared_error: 5.7620 - val_acc: 0.4050\n",
            "Epoch 11/50\n",
            "536000/536000 [==============================] - 74s 138us/step - loss: 5.0428 - mean_squared_error: 5.0428 - acc: 0.3204 - val_loss: 4.2543 - val_mean_squared_error: 4.2543 - val_acc: 0.3417\n",
            "Epoch 12/50\n",
            "536000/536000 [==============================] - 74s 138us/step - loss: 4.1097 - mean_squared_error: 4.1097 - acc: 0.3277 - val_loss: 4.3919 - val_mean_squared_error: 4.3919 - val_acc: 0.2357\n",
            "Epoch 13/50\n",
            "536000/536000 [==============================] - 75s 140us/step - loss: 3.8254 - mean_squared_error: 3.8254 - acc: 0.3369 - val_loss: 4.3069 - val_mean_squared_error: 4.3069 - val_acc: 0.1573\n",
            "Epoch 14/50\n",
            "536000/536000 [==============================] - 76s 141us/step - loss: 3.7061 - mean_squared_error: 3.7061 - acc: 0.3430 - val_loss: 3.7839 - val_mean_squared_error: 3.7839 - val_acc: 0.3021\n",
            "Epoch 15/50\n",
            "536000/536000 [==============================] - 75s 140us/step - loss: 3.6557 - mean_squared_error: 3.6557 - acc: 0.3451 - val_loss: 3.4261 - val_mean_squared_error: 3.4261 - val_acc: 0.3993\n",
            "Epoch 16/50\n",
            "536000/536000 [==============================] - 76s 141us/step - loss: 3.6073 - mean_squared_error: 3.6073 - acc: 0.3551 - val_loss: 3.8111 - val_mean_squared_error: 3.8111 - val_acc: 0.2536\n",
            "Epoch 17/50\n",
            "536000/536000 [==============================] - 73s 136us/step - loss: 3.5708 - mean_squared_error: 3.5708 - acc: 0.3592 - val_loss: 3.2058 - val_mean_squared_error: 3.2058 - val_acc: 0.5017\n",
            "Epoch 18/50\n",
            "536000/536000 [==============================] - 74s 138us/step - loss: 3.5470 - mean_squared_error: 3.5470 - acc: 0.3623 - val_loss: 3.2469 - val_mean_squared_error: 3.2469 - val_acc: 0.4519\n",
            "Epoch 19/50\n",
            "536000/536000 [==============================] - 75s 139us/step - loss: 3.5413 - mean_squared_error: 3.5413 - acc: 0.3676 - val_loss: 3.3903 - val_mean_squared_error: 3.3903 - val_acc: 0.4133\n",
            "Epoch 20/50\n",
            "536000/536000 [==============================] - 76s 142us/step - loss: 3.5362 - mean_squared_error: 3.5362 - acc: 0.3681 - val_loss: 3.4178 - val_mean_squared_error: 3.4178 - val_acc: 0.4129\n",
            "Epoch 21/50\n",
            "536000/536000 [==============================] - 76s 141us/step - loss: 3.5020 - mean_squared_error: 3.5020 - acc: 0.3766 - val_loss: 3.7128 - val_mean_squared_error: 3.7128 - val_acc: 0.2551\n",
            "Epoch 22/50\n",
            "536000/536000 [==============================] - 75s 140us/step - loss: 3.4794 - mean_squared_error: 3.4794 - acc: 0.3859 - val_loss: 3.5217 - val_mean_squared_error: 3.5217 - val_acc: 0.3626\n",
            "Epoch 23/50\n",
            "536000/536000 [==============================] - 71s 132us/step - loss: 3.4846 - mean_squared_error: 3.4846 - acc: 0.3844 - val_loss: 3.1211 - val_mean_squared_error: 3.1211 - val_acc: 0.5452\n",
            "Epoch 24/50\n",
            "536000/536000 [==============================] - 70s 131us/step - loss: 3.4582 - mean_squared_error: 3.4582 - acc: 0.3940 - val_loss: 3.3437 - val_mean_squared_error: 3.3437 - val_acc: 0.3985\n",
            "Epoch 25/50\n",
            "536000/536000 [==============================] - 75s 140us/step - loss: 3.4402 - mean_squared_error: 3.4402 - acc: 0.3994 - val_loss: 3.5286 - val_mean_squared_error: 3.5286 - val_acc: 0.3455\n",
            "Epoch 26/50\n",
            "536000/536000 [==============================] - 75s 140us/step - loss: 3.4301 - mean_squared_error: 3.4301 - acc: 0.4010 - val_loss: 3.4545 - val_mean_squared_error: 3.4545 - val_acc: 0.4003\n",
            "Epoch 27/50\n",
            "536000/536000 [==============================] - 82s 153us/step - loss: 3.4137 - mean_squared_error: 3.4137 - acc: 0.4111 - val_loss: 3.8040 - val_mean_squared_error: 3.8040 - val_acc: 0.3170\n",
            "Epoch 28/50\n",
            "536000/536000 [==============================] - 78s 146us/step - loss: 3.4026 - mean_squared_error: 3.4026 - acc: 0.4143 - val_loss: 3.2709 - val_mean_squared_error: 3.2709 - val_acc: 0.4324\n",
            "Epoch 29/50\n",
            "536000/536000 [==============================] - 81s 151us/step - loss: 3.4034 - mean_squared_error: 3.4034 - acc: 0.4148 - val_loss: 3.1077 - val_mean_squared_error: 3.1077 - val_acc: 0.5796\n",
            "Epoch 30/50\n",
            "536000/536000 [==============================] - 79s 148us/step - loss: 3.3861 - mean_squared_error: 3.3861 - acc: 0.4175 - val_loss: 3.1986 - val_mean_squared_error: 3.1986 - val_acc: 0.4795\n",
            "Epoch 31/50\n",
            "536000/536000 [==============================] - 80s 148us/step - loss: 3.3961 - mean_squared_error: 3.3961 - acc: 0.4143 - val_loss: 3.7418 - val_mean_squared_error: 3.7418 - val_acc: 0.3133\n",
            "Epoch 32/50\n",
            "536000/536000 [==============================] - 79s 147us/step - loss: 3.3852 - mean_squared_error: 3.3852 - acc: 0.4202 - val_loss: 3.1428 - val_mean_squared_error: 3.1428 - val_acc: 0.5208\n",
            "Epoch 33/50\n",
            "536000/536000 [==============================] - 79s 147us/step - loss: 3.3738 - mean_squared_error: 3.3738 - acc: 0.4198 - val_loss: 4.2845 - val_mean_squared_error: 4.2845 - val_acc: 0.2037\n",
            "Epoch 34/50\n",
            "536000/536000 [==============================] - 74s 137us/step - loss: 3.3736 - mean_squared_error: 3.3736 - acc: 0.4262 - val_loss: 3.4465 - val_mean_squared_error: 3.4465 - val_acc: 0.3671\n",
            "Epoch 35/50\n",
            "536000/536000 [==============================] - 75s 140us/step - loss: 3.3658 - mean_squared_error: 3.3658 - acc: 0.4254 - val_loss: 3.3881 - val_mean_squared_error: 3.3881 - val_acc: 0.3736\n",
            "Epoch 36/50\n",
            "536000/536000 [==============================] - 74s 138us/step - loss: 3.3680 - mean_squared_error: 3.3680 - acc: 0.4262 - val_loss: 3.3230 - val_mean_squared_error: 3.3230 - val_acc: 0.3699\n",
            "Epoch 37/50\n",
            "536000/536000 [==============================] - 76s 141us/step - loss: 3.3537 - mean_squared_error: 3.3537 - acc: 0.4310 - val_loss: 3.5969 - val_mean_squared_error: 3.5969 - val_acc: 0.2952\n",
            "Epoch 38/50\n",
            "536000/536000 [==============================] - 75s 139us/step - loss: 3.3584 - mean_squared_error: 3.3584 - acc: 0.4311 - val_loss: 3.1781 - val_mean_squared_error: 3.1781 - val_acc: 0.5233\n",
            "Epoch 39/50\n",
            "536000/536000 [==============================] - 76s 142us/step - loss: 3.3600 - mean_squared_error: 3.3600 - acc: 0.4295 - val_loss: 3.7824 - val_mean_squared_error: 3.7824 - val_acc: 0.2865\n",
            "Epoch 40/50\n",
            "536000/536000 [==============================] - 76s 141us/step - loss: 3.3589 - mean_squared_error: 3.3589 - acc: 0.4300 - val_loss: 3.2898 - val_mean_squared_error: 3.2898 - val_acc: 0.4585\n",
            "Epoch 41/50\n",
            "524260/536000 [============================>.] - ETA: 1s - loss: 3.3498 - mean_squared_error: 3.3498 - acc: 0.4366Buffered data was truncated after reaching the output size limit."
          ],
          "name": "stdout"
        }
      ]
    },
    {
      "metadata": {
        "id": "tT8BUdvFTj8l",
        "colab_type": "text"
      },
      "cell_type": "markdown",
      "source": [
        "### Charting our learning\n",
        "\n",
        "Now we can graph our loss and accuracy through the entire training process. This gives us insight in to how the training went and if we have potentially overfit to our data"
      ]
    },
    {
      "metadata": {
        "id": "xeCbPUtFOChd",
        "colab_type": "code",
        "outputId": "93c17af3-a2c7-42d0-8585-e8112d473994",
        "colab": {
          "base_uri": "https://localhost:8080/",
          "height": 571
        }
      },
      "cell_type": "code",
      "source": [
        "# summarize history for accuracy\n",
        "plt.plot(history.history['acc'])\n",
        "plt.plot(history.history['val_acc'])\n",
        "plt.title('model accuracy')\n",
        "plt.ylabel('accuracy')\n",
        "plt.xlabel('epoch')\n",
        "plt.legend(['train', 'test'], loc='upper left')\n",
        "plt.show()\n",
        "\n",
        "# summarize history for loss\n",
        "plt.plot(history.history['loss'])\n",
        "plt.plot(history.history['val_loss'])\n",
        "plt.title('model loss')\n",
        "plt.ylabel('loss')\n",
        "plt.xlabel('epoch')\n",
        "plt.legend(['train', 'test'], loc='upper left')\n",
        "plt.show()"
      ],
      "execution_count": 15,
      "outputs": [
        {
          "output_type": "display_data",
          "data": {
            "image/png": "[encoded data removed]",
            "text/plain": [
              "<Figure size 432x288 with 1 Axes>"
            ]
          },
          "metadata": {
            "tags": []
          }
        },
        {
          "output_type": "display_data",
          "data": {
            "image/png": "[encoded data removed]",
            "text/plain": [
              "<Figure size 432x288 with 1 Axes>"
            ]
          },
          "metadata": {
            "tags": []
          }
        }
      ]
    },
    {
      "metadata": {
        "id": "x_xUqSMLxV_d",
        "colab_type": "text"
      },
      "cell_type": "markdown",
      "source": [
        "### Evaluating our model\n",
        "\n",
        "Now that we have trained the model we can evaluate in on our test set to see how well it did on values it has never seen before"
      ]
    },
    {
      "metadata": {
        "id": "OOuf_z-iwPUi",
        "colab_type": "code",
        "colab": {
          "base_uri": "https://localhost:8080/",
          "height": 34
        },
        "outputId": "0c0a7fb1-4f4e-46b2-979d-701199168f08"
      },
      "cell_type": "code",
      "source": [
        "scores = model.evaluate(X_test, y_test)"
      ],
      "execution_count": 16,
      "outputs": [
        {
          "output_type": "stream",
          "text": [
            "200000/200000 [==============================] - 10s 52us/step\n"
          ],
          "name": "stdout"
        }
      ]
    },
    {
      "metadata": {
        "id": "TLP6F7qiCVBU",
        "colab_type": "text"
      },
      "cell_type": "markdown",
      "source": [
        "Now we can see the average Mean Square Error for our test set"
      ]
    },
    {
      "metadata": {
        "id": "6aEFkDS5NnVh",
        "colab_type": "code",
        "colab": {
          "base_uri": "https://localhost:8080/",
          "height": 34
        },
        "outputId": "67b701dc-e35f-4741-ee11-28f6b8715be1"
      },
      "cell_type": "code",
      "source": [
        "scores"
      ],
      "execution_count": 17,
      "outputs": [
        {
          "output_type": "execute_result",
          "data": {
            "text/plain": [
              "3.2341098100090027"
            ]
          },
          "metadata": {
            "tags": []
          },
          "execution_count": 17
        }
      ]
    },
    {
      "metadata": {
        "id": "rPYtlYn7TlcK",
        "colab_type": "text"
      },
      "cell_type": "markdown",
      "source": [
        "### Using our model\n",
        "\n",
        "Now we are ready to use our model. We can predict what the missing number is given a random array"
      ]
    },
    {
      "metadata": {
        "id": "HA0cPCKOPMAN",
        "colab_type": "code",
        "colab": {
          "base_uri": "https://localhost:8080/",
          "height": 34
        },
        "outputId": "01a2e985-6325-4b3f-939a-1af5d675e93a"
      },
      "cell_type": "code",
      "source": [
        "model.predict(np.array([[1,2,3,6,5]]))"
      ],
      "execution_count": 18,
      "outputs": [
        {
          "output_type": "execute_result",
          "data": {
            "text/plain": [
              "array([[4.1687164]], dtype=float32)"
            ]
          },
          "metadata": {
            "tags": []
          },
          "execution_count": 18
        }
      ]
    },
    {
      "metadata": {
        "id": "_G-wlcVb38nt",
        "colab_type": "text"
      },
      "cell_type": "markdown",
      "source": [
        "We did not get the exact answer this is because 9/10 times in machine learning you try to get as close as possible to the correct answer. It is impossible to predict the future 100% of the time. \n",
        "\n",
        "We can train on more epochs and tune the hyperparameters to get a more accurate answer.\n",
        "\n",
        "## Non-ML Algorithm\n",
        "\n",
        "As mentioned, this problem can easily and much better be solved using a non-ML algorithm, so for fun lets implement it."
      ]
    },
    {
      "metadata": {
        "id": "ftopaD3j37bJ",
        "colab_type": "code",
        "colab": {}
      },
      "cell_type": "code",
      "source": [
        "def missing_num(arr):\n",
        "    if len(arr) < 2:\n",
        "        return arr\n",
        "    \n",
        "    low_num = arr[0]\n",
        "    high_num = arr[0]\n",
        "    hmap = set()\n",
        "    for each_number in arr:\n",
        "        hmap.add(i)\n",
        "        if each_number < low_num:\n",
        "            low_num = each_number\n",
        "        elif each_number > high_num:\n",
        "            high_num = each_number\n",
        "    ret = []\n",
        "    for each_number in range(low_num, high_num):\n",
        "        if each_number not in hmap:\n",
        "            ret.append(each_number)\n",
        "    \n",
        "    return ret\n",
        "    "
      ],
      "execution_count": 0,
      "outputs": []
    },
    {
      "metadata": {
        "id": "IFEsybTa7-zG",
        "colab_type": "code",
        "colab": {
          "base_uri": "https://localhost:8080/",
          "height": 34
        },
        "outputId": "3e3eae6b-04eb-48d1-f7b0-6d7d418b9930"
      },
      "cell_type": "code",
      "source": [
        "missing_num([1,2,3,6,5])"
      ],
      "execution_count": 20,
      "outputs": [
        {
          "output_type": "execute_result",
          "data": {
            "text/plain": [
              "[1, 2, 3, 4]"
            ]
          },
          "metadata": {
            "tags": []
          },
          "execution_count": 20
        }
      ]
    },
    {
      "metadata": {
        "id": "9SPt_v7xBKjv",
        "colab_type": "text"
      },
      "cell_type": "markdown",
      "source": [
        "Our non-ML algorithm works on any size array and at any range. This is also an important lesson on understanding if you should even use machine learning to solve your problem. Sometimes a non-ML algorithm works better.\n",
        "\n",
        "### Next Steps\n",
        "\n",
        "Some questions that may rise from this. \n",
        "\n",
        "- Why was the array size fixed?\n",
        "- How do you choose the right hyperparameters?\n",
        "\n",
        "These are questions we will tackle in the next tutorial **:-)**"
      ]
    }
  ]
}