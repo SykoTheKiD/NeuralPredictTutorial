{
  "nbformat": 4,
  "nbformat_minor": 0,
  "metadata": {
    "colab": {
      "name": "MLSort.ipynb",
      "version": "0.3.2",
      "provenance": [],
      "collapsed_sections": [],
      "include_colab_link": true
    },
    "kernelspec": {
      "name": "python3",
      "display_name": "Python 3"
    },
    "accelerator": "GPU"
  },
  "cells": [
    {
      "cell_type": "markdown",
      "metadata": {
        "id": "view-in-github",
        "colab_type": "text"
      },
      "source": [
        "<a href=\"https://colab.research.google.com/github/SykoTheKiD/NeuralPredictTutorial/blob/master/MLSort.ipynb\" target=\"_parent\"><img src=\"https://colab.research.google.com/assets/colab-badge.svg\" alt=\"Open In Colab\"/></a>"
      ]
    },
    {
      "metadata": {
        "id": "ydJLkFhI4VxA",
        "colab_type": "code",
        "outputId": "96b31f1e-4460-4cbc-975b-b85b8ddc0634",
        "colab": {
          "base_uri": "https://localhost:8080/",
          "height": 184
        }
      },
      "cell_type": "code",
      "source": [
        "!apt install graphviz\n",
        "!pip install pydot pydot-ng"
      ],
      "execution_count": 1,
      "outputs": [
        {
          "output_type": "stream",
          "text": [
            "Reading package lists... Done\n",
            "Building dependency tree       \n",
            "Reading state information... Done\n",
            "graphviz is already the newest version (2.40.1-2).\n",
            "0 upgraded, 0 newly installed, 0 to remove and 13 not upgraded.\n",
            "Requirement already satisfied: pydot in /usr/local/lib/python3.6/dist-packages (1.3.0)\n",
            "Requirement already satisfied: pydot-ng in /usr/local/lib/python3.6/dist-packages (2.0.0)\n",
            "Requirement already satisfied: pyparsing>=2.1.4 in /usr/local/lib/python3.6/dist-packages (from pydot) (2.3.1)\n"
          ],
          "name": "stdout"
        }
      ]
    },
    {
      "metadata": {
        "id": "WAHqk8qtTWYv",
        "colab_type": "text"
      },
      "cell_type": "markdown",
      "source": [
        "## Introduction to Artificial Neural Networks\n",
        "\n",
        "This tutorial covers:\n",
        "- What is an ANN?\n",
        "- How to build one?\n",
        "- How to train one?\n",
        "- How do I use the trained ANN?\n",
        "\n",
        "### What is an ANN?\n",
        "\n",
        "Before I begin with the introduction, I highly recommend 3B1B's series on Neural Networks as they are very in depth and intuitive in their explainations of what and how a ANN works.\n",
        "\n",
        "[3b1b Neural Network Series](https://https://www.youtube.com/watch?v=aircAruvnKk)\n",
        "\n",
        "A neural network is essentially a weighted sum inference algorithm. It in as input a predefined set of numbers and then assigns a `weight` to each number and outputs another number based on the total weight calculation.\n",
        "\n",
        "![Image of a Neuron (from KDNuggets)](https://ujwlkarn.files.wordpress.com/2016/08/screen-shot-2016-08-09-at-3-42-21-am.png)\n",
        "\n",
        "A series of these neurons make one layer in a neural network and a series of layers make a network.\n",
        "\n",
        "![Neural Network from KDNuggets](https://ujwlkarn.files.wordpress.com/2016/08/screen-shot-2016-08-09-at-4-19-50-am.png)\n",
        "\n",
        "Repeated stacking of these layers is called `Deep Learning`\n",
        "\n",
        "\n",
        "### The Project\n",
        "\n",
        "In this tutorial we will use a neural network to perform a simple task. Given an array size *5* with numbers who continuously range from *n* to *m* (*n* and *m* range from -100 to 100) one number from that continuous range is missing. The neural network will try and figure it out.\n",
        "\n",
        "While this problem is best solved using a non machine learning algorithm this is still a good problem to try and solve to learn the basics of neural networks for the following reasons:\n",
        "\n",
        "- We do not need to worry about collecting data as we can generate infinitely many data points\n",
        "- We can manipulate the dimensions of our data easily to fit our problem\n",
        "- The network will be easy to train\n",
        "\n",
        "### The code\n",
        "\n",
        "First to begin we will import all the packages needed to develop the network"
      ]
    },
    {
      "metadata": {
        "id": "7HI_lb0RkLsV",
        "colab_type": "code",
        "outputId": "d3fe84d3-d444-4a78-ac68-7c4cc8c350ca",
        "colab": {
          "base_uri": "https://localhost:8080/",
          "height": 34
        }
      },
      "cell_type": "code",
      "source": [
        "from sklearn.model_selection import train_test_split\n",
        "from keras.optimizers import Adam, RMSprop\n",
        "from keras.models import Sequential\n",
        "from keras.layers import Dense\n",
        "from keras import metrics\n",
        "import pandas as pd\n",
        "import random as rd\n",
        "import numpy as np\n",
        "\n",
        "from keras.utils.vis_utils import plot_model\n",
        "import matplotlib.pyplot as plt\n",
        "\n",
        "%matplotlib inline"
      ],
      "execution_count": 2,
      "outputs": [
        {
          "output_type": "stream",
          "text": [
            "Using TensorFlow backend.\n"
          ],
          "name": "stderr"
        }
      ]
    },
    {
      "metadata": {
        "id": "zVbS9wxWTZ71",
        "colab_type": "text"
      },
      "cell_type": "markdown",
      "source": [
        "These are constants that will be referenced throughout the project.\n",
        "\n",
        "Constants such as `BATCH_SIZE`, `NUM_EPOCHS`, `TRAIN_SIZE`, `TEST_SIZE` and `VALIDATION_SIZE` are called **hyperparameters**. These are parameters that do not change during training."
      ]
    },
    {
      "metadata": {
        "id": "l--yV7bNQmMS",
        "colab_type": "code",
        "colab": {}
      },
      "cell_type": "code",
      "source": [
        "DATASET_SIZE = 1000000\n",
        "MAX_RANGE = 100\n",
        "MIN_RANGE = -100\n",
        "BATCH_SIZE = 55\n",
        "TEST_SIZE = 0.2\n",
        "VALIDATION_SIZE=0.33\n",
        "NUM_EPOCHS = 10\n",
        "ARR_SIZE = 5"
      ],
      "execution_count": 0,
      "outputs": []
    },
    {
      "metadata": {
        "id": "rbw_Idm-TalU",
        "colab_type": "text"
      },
      "cell_type": "markdown",
      "source": [
        "### Generating our dataset\n",
        "\n",
        "We will generate our dataset  as described above"
      ]
    },
    {
      "metadata": {
        "id": "2o2Q2DQJovro",
        "colab_type": "code",
        "outputId": "4727b486-cc9a-4ccd-974e-f9636972e9e4",
        "colab": {
          "base_uri": "https://localhost:8080/",
          "height": 51
        }
      },
      "cell_type": "code",
      "source": [
        "%time\n",
        "\n",
        "dataset = []\n",
        "\n",
        "for _ in range(DATASET_SIZE):\n",
        "    tmp_inp = []\n",
        "    start_int = rd.randint(MIN_RANGE, MAX_RANGE)\n",
        "    \n",
        "    for i in range(ARR_SIZE + 1):\n",
        "        tmp_inp.append(start_int)\n",
        "        start_int = start_int + 1\n",
        "\n",
        "    rand_index = rd.randint(0, ARR_SIZE)\n",
        "    output = tmp_inp.pop(rand_index)\n",
        "    rd.shuffle(tmp_inp)\n",
        "    tmp_inp.append(output)\n",
        "    dataset.append(tmp_inp)"
      ],
      "execution_count": 4,
      "outputs": [
        {
          "output_type": "stream",
          "text": [
            "CPU times: user 3 µs, sys: 1e+03 ns, total: 4 µs\n",
            "Wall time: 8.82 µs\n"
          ],
          "name": "stdout"
        }
      ]
    },
    {
      "metadata": {
        "id": "wZ0aQfG2Tb_X",
        "colab_type": "text"
      },
      "cell_type": "markdown",
      "source": [
        "We will convert our list of lists into a Pandas DataFrame. Panda DataFrames are easier to use and feed into a neural network"
      ]
    },
    {
      "metadata": {
        "id": "_9cxCbQJ62WV",
        "colab_type": "code",
        "colab": {}
      },
      "cell_type": "code",
      "source": [
        "df = pd.DataFrame(dataset, columns=['v1', 'v2', 'v3', 'v4', 'v5','out'])"
      ],
      "execution_count": 0,
      "outputs": []
    },
    {
      "metadata": {
        "id": "cyKoJydc7JBR",
        "colab_type": "code",
        "outputId": "7645c92e-2375-48f1-e0c8-aad246ad0754",
        "colab": {
          "base_uri": "https://localhost:8080/",
          "height": 204
        }
      },
      "cell_type": "code",
      "source": [
        "df.head()"
      ],
      "execution_count": 6,
      "outputs": [
        {
          "output_type": "execute_result",
          "data": {
            "text/html": [
              "<div>\n",
              "<style scoped>\n",
              "    .dataframe tbody tr th:only-of-type {\n",
              "        vertical-align: middle;\n",
              "    }\n",
              "\n",
              "    .dataframe tbody tr th {\n",
              "        vertical-align: top;\n",
              "    }\n",
              "\n",
              "    .dataframe thead th {\n",
              "        text-align: right;\n",
              "    }\n",
              "</style>\n",
              "<table border=\"1\" class=\"dataframe\">\n",
              "  <thead>\n",
              "    <tr style=\"text-align: right;\">\n",
              "      <th></th>\n",
              "      <th>v1</th>\n",
              "      <th>v2</th>\n",
              "      <th>v3</th>\n",
              "      <th>v4</th>\n",
              "      <th>v5</th>\n",
              "      <th>out</th>\n",
              "    </tr>\n",
              "  </thead>\n",
              "  <tbody>\n",
              "    <tr>\n",
              "      <th>0</th>\n",
              "      <td>44</td>\n",
              "      <td>43</td>\n",
              "      <td>41</td>\n",
              "      <td>42</td>\n",
              "      <td>39</td>\n",
              "      <td>40</td>\n",
              "    </tr>\n",
              "    <tr>\n",
              "      <th>1</th>\n",
              "      <td>28</td>\n",
              "      <td>32</td>\n",
              "      <td>30</td>\n",
              "      <td>27</td>\n",
              "      <td>31</td>\n",
              "      <td>29</td>\n",
              "    </tr>\n",
              "    <tr>\n",
              "      <th>2</th>\n",
              "      <td>-93</td>\n",
              "      <td>-94</td>\n",
              "      <td>-89</td>\n",
              "      <td>-90</td>\n",
              "      <td>-91</td>\n",
              "      <td>-92</td>\n",
              "    </tr>\n",
              "    <tr>\n",
              "      <th>3</th>\n",
              "      <td>-47</td>\n",
              "      <td>-50</td>\n",
              "      <td>-51</td>\n",
              "      <td>-49</td>\n",
              "      <td>-48</td>\n",
              "      <td>-46</td>\n",
              "    </tr>\n",
              "    <tr>\n",
              "      <th>4</th>\n",
              "      <td>80</td>\n",
              "      <td>85</td>\n",
              "      <td>83</td>\n",
              "      <td>82</td>\n",
              "      <td>84</td>\n",
              "      <td>81</td>\n",
              "    </tr>\n",
              "  </tbody>\n",
              "</table>\n",
              "</div>"
            ],
            "text/plain": [
              "   v1  v2  v3  v4  v5  out\n",
              "0  44  43  41  42  39   40\n",
              "1  28  32  30  27  31   29\n",
              "2 -93 -94 -89 -90 -91  -92\n",
              "3 -47 -50 -51 -49 -48  -46\n",
              "4  80  85  83  82  84   81"
            ]
          },
          "metadata": {
            "tags": []
          },
          "execution_count": 6
        }
      ]
    },
    {
      "metadata": {
        "id": "fPN51G1_Tdv0",
        "colab_type": "text"
      },
      "cell_type": "markdown",
      "source": [
        "Now we can split our data into inputs and outputs"
      ]
    },
    {
      "metadata": {
        "id": "-mAHFQuljSRj",
        "colab_type": "code",
        "colab": {}
      },
      "cell_type": "code",
      "source": [
        "X, y = df.iloc[:, 0:5].values, df.iloc[:, 5].values "
      ],
      "execution_count": 0,
      "outputs": []
    },
    {
      "metadata": {
        "id": "acfzBdKfTfIl",
        "colab_type": "text"
      },
      "cell_type": "markdown",
      "source": [
        "A ML algorithm needs two types of datasets, a training set and a test set\n",
        "\n",
        "A **training set** is what the network uses to learn and understand the data\n",
        "\n",
        "A **test set** is what the network uses to see if it understood the data properly\n",
        "\n",
        "\n",
        "We will split our **X, y** data into train and test sets"
      ]
    },
    {
      "metadata": {
        "id": "_HZHRoPoofwE",
        "colab_type": "code",
        "colab": {}
      },
      "cell_type": "code",
      "source": [
        "# Split training / val / test\n",
        "X_train, X_test, y_train, y_test = train_test_split(X, y, test_size=TEST_SIZE)"
      ],
      "execution_count": 0,
      "outputs": []
    },
    {
      "metadata": {
        "id": "zM28bCXXTgF-",
        "colab_type": "text"
      },
      "cell_type": "markdown",
      "source": [
        "### Creating our Neural Network\n",
        "\n",
        "Now we can define our neural network"
      ]
    },
    {
      "metadata": {
        "id": "249493mJuUWf",
        "colab_type": "code",
        "colab": {}
      },
      "cell_type": "code",
      "source": [
        "model = Sequential()\n",
        "model.add(Dense(16, input_dim=ARR_SIZE, activation='relu'))\n",
        "model.add(Dense(32, activation='relu'))\n",
        "model.add(Dense(32, activation='relu'))\n",
        "model.add(Dense(12, activation='relu'))\n",
        "model.add(Dense(8, activation='relu'))\n",
        "model.add(Dense(4, activation='relu'))\n",
        "model.add(Dense(1))"
      ],
      "execution_count": 0,
      "outputs": []
    },
    {
      "metadata": {
        "id": "z_x3CjTx4l9s",
        "colab_type": "code",
        "outputId": "b23dc66d-f1bb-492f-daf9-11ea75d3da73",
        "colab": {
          "base_uri": "https://localhost:8080/",
          "height": 374
        }
      },
      "cell_type": "code",
      "source": [
        "model.summary()"
      ],
      "execution_count": 10,
      "outputs": [
        {
          "output_type": "stream",
          "text": [
            "_________________________________________________________________\n",
            "Layer (type)                 Output Shape              Param #   \n",
            "=================================================================\n",
            "dense_1 (Dense)              (None, 16)                96        \n",
            "_________________________________________________________________\n",
            "dense_2 (Dense)              (None, 32)                544       \n",
            "_________________________________________________________________\n",
            "dense_3 (Dense)              (None, 32)                1056      \n",
            "_________________________________________________________________\n",
            "dense_4 (Dense)              (None, 12)                396       \n",
            "_________________________________________________________________\n",
            "dense_5 (Dense)              (None, 8)                 104       \n",
            "_________________________________________________________________\n",
            "dense_6 (Dense)              (None, 4)                 36        \n",
            "_________________________________________________________________\n",
            "dense_7 (Dense)              (None, 1)                 5         \n",
            "=================================================================\n",
            "Total params: 2,237\n",
            "Trainable params: 2,237\n",
            "Non-trainable params: 0\n",
            "_________________________________________________________________\n"
          ],
          "name": "stdout"
        }
      ]
    },
    {
      "metadata": {
        "id": "GYoA1HrVu_WD",
        "colab_type": "code",
        "outputId": "32bb2a39-f0ac-4ec4-f93c-ae1402e291cc",
        "colab": {
          "base_uri": "https://localhost:8080/",
          "height": 434
        }
      },
      "cell_type": "code",
      "source": [
        "# Plot model graph\n",
        "plot_model(model, show_shapes=True, show_layer_names=True, to_file='model.png')\n",
        "from IPython.display import Image\n",
        "Image(retina=True, filename='model.png')"
      ],
      "execution_count": 11,
      "outputs": [
        {
          "output_type": "execute_result",
          "data": {
            "image/png": "[encoded data removed]",
            "text/plain": [
              "<IPython.core.display.Image object>"
            ]
          },
          "metadata": {
            "tags": [],
            "image/png": {
              "width": 168,
              "height": 417
            }
          },
          "execution_count": 11
        }
      ]
    },
    {
      "metadata": {
        "id": "TTmHpdbbThxJ",
        "colab_type": "text"
      },
      "cell_type": "markdown",
      "source": [
        "### Training our Model\n",
        "\n",
        "Now we are ready to feed in the training data into out model and train our neural network"
      ]
    },
    {
      "metadata": {
        "id": "Gvz17iACv4GK",
        "colab_type": "code",
        "colab": {}
      },
      "cell_type": "code",
      "source": [
        "model.compile(loss='mean_squared_error', optimizer=Adam(), metrics=[metrics.mse, 'accuracy'])"
      ],
      "execution_count": 0,
      "outputs": []
    },
    {
      "metadata": {
        "id": "0IERL7uewCXF",
        "colab_type": "code",
        "outputId": "7e29d121-fd37-44f2-b345-be2148294651",
        "colab": {
          "base_uri": "https://localhost:8080/",
          "height": 448
        }
      },
      "cell_type": "code",
      "source": [
        "%time\n",
        "history = model.fit(X_train, y_train, validation_split=VALIDATION_SIZE, epochs=NUM_EPOCHS, batch_size=BATCH_SIZE, verbose=1)"
      ],
      "execution_count": 13,
      "outputs": [
        {
          "output_type": "stream",
          "text": [
            "CPU times: user 4 µs, sys: 0 ns, total: 4 µs\n",
            "Wall time: 9.54 µs\n",
            "Train on 536000 samples, validate on 264000 samples\n",
            "Epoch 1/10\n",
            "536000/536000 [==============================] - 76s 143us/step - loss: 1583.5961 - mean_squared_error: 1583.5961 - acc: 0.0715 - val_loss: 1356.6733 - val_mean_squared_error: 1356.6733 - val_acc: 0.0773\n",
            "Epoch 2/10\n",
            "536000/536000 [==============================] - 75s 139us/step - loss: 1171.4974 - mean_squared_error: 1171.4974 - acc: 0.0822 - val_loss: 988.8490 - val_mean_squared_error: 988.8490 - val_acc: 0.0884\n",
            "Epoch 3/10\n",
            "536000/536000 [==============================] - 76s 142us/step - loss: 841.4321 - mean_squared_error: 841.4321 - acc: 0.1165 - val_loss: 696.2591 - val_mean_squared_error: 696.2591 - val_acc: 0.1469\n",
            "Epoch 4/10\n",
            "536000/536000 [==============================] - 77s 143us/step - loss: 581.1157 - mean_squared_error: 581.1157 - acc: 0.1671 - val_loss: 469.5096 - val_mean_squared_error: 469.5096 - val_acc: 0.1983\n",
            "Epoch 5/10\n",
            "536000/536000 [==============================] - 74s 138us/step - loss: 382.8605 - mean_squared_error: 382.8605 - acc: 0.2022 - val_loss: 300.0428 - val_mean_squared_error: 300.0428 - val_acc: 0.1956\n",
            "Epoch 6/10\n",
            "536000/536000 [==============================] - 75s 139us/step - loss: 237.5855 - mean_squared_error: 237.5855 - acc: 0.2289 - val_loss: 179.0075 - val_mean_squared_error: 179.0075 - val_acc: 0.1997\n",
            "Epoch 7/10\n",
            "536000/536000 [==============================] - 74s 138us/step - loss: 136.3370 - mean_squared_error: 136.3370 - acc: 0.2489 - val_loss: 97.0668 - val_mean_squared_error: 97.0668 - val_acc: 0.2905\n",
            "Epoch 8/10\n",
            "536000/536000 [==============================] - 74s 137us/step - loss: 70.7431 - mean_squared_error: 70.7431 - acc: 0.2680 - val_loss: 47.3323 - val_mean_squared_error: 47.3323 - val_acc: 0.2330\n",
            "Epoch 9/10\n",
            "536000/536000 [==============================] - 73s 135us/step - loss: 32.5707 - mean_squared_error: 32.5707 - acc: 0.2859 - val_loss: 20.4610 - val_mean_squared_error: 20.4610 - val_acc: 0.2820\n",
            "Epoch 10/10\n",
            "536000/536000 [==============================] - 75s 139us/step - loss: 13.6552 - mean_squared_error: 13.6552 - acc: 0.2987 - val_loss: 8.6315 - val_mean_squared_error: 8.6315 - val_acc: 0.3107\n"
          ],
          "name": "stdout"
        }
      ]
    },
    {
      "metadata": {
        "id": "tT8BUdvFTj8l",
        "colab_type": "text"
      },
      "cell_type": "markdown",
      "source": [
        "### Charting our learning\n",
        "\n",
        "Now we can graph our loss and accuracy through the entire training process. This gives us insight in to how the training went and if we have potentially overfit to our data"
      ]
    },
    {
      "metadata": {
        "id": "xeCbPUtFOChd",
        "colab_type": "code",
        "outputId": "64fec1e1-d2cb-4fc8-d51b-cfd7b4e45a36",
        "colab": {
          "base_uri": "https://localhost:8080/",
          "height": 571
        }
      },
      "cell_type": "code",
      "source": [
        "# summarize history for accuracy\n",
        "plt.plot(history.history['acc'])\n",
        "plt.plot(history.history['val_acc'])\n",
        "plt.title('model accuracy')\n",
        "plt.ylabel('accuracy')\n",
        "plt.xlabel('epoch')\n",
        "plt.legend(['train', 'test'], loc='upper left')\n",
        "plt.show()\n",
        "\n",
        "# summarize history for loss\n",
        "plt.plot(history.history['loss'])\n",
        "plt.plot(history.history['val_loss'])\n",
        "plt.title('model loss')\n",
        "plt.ylabel('loss')\n",
        "plt.xlabel('epoch')\n",
        "plt.legend(['train', 'test'], loc='upper left')\n",
        "plt.show()"
      ],
      "execution_count": 14,
      "outputs": [
        {
          "output_type": "display_data",
          "data": {
            "image/png": "[encoded data removed]",
            "text/plain": [
              "<Figure size 432x288 with 1 Axes>"
            ]
          },
          "metadata": {
            "tags": []
          }
        },
        {
          "output_type": "display_data",
          "data": {
            "image/png": "[encoded data removed]",
            "text/plain": [
              "<Figure size 432x288 with 1 Axes>"
            ]
          },
          "metadata": {
            "tags": []
          }
        }
      ]
    },
    {
      "metadata": {
        "id": "x_xUqSMLxV_d",
        "colab_type": "text"
      },
      "cell_type": "markdown",
      "source": [
        "### Evaluating our model\n",
        "\n",
        "Now that we have trained the model we can evaluate in on our test set to see how well it did on values it has never seen before"
      ]
    },
    {
      "metadata": {
        "id": "OOuf_z-iwPUi",
        "colab_type": "code",
        "outputId": "12b06db9-49a6-428d-e2db-11f098cb61d0",
        "colab": {
          "base_uri": "https://localhost:8080/",
          "height": 34
        }
      },
      "cell_type": "code",
      "source": [
        "scores = model.evaluate(X_test, y_test)"
      ],
      "execution_count": 15,
      "outputs": [
        {
          "output_type": "stream",
          "text": [
            "200000/200000 [==============================] - 10s 50us/step\n"
          ],
          "name": "stdout"
        }
      ]
    },
    {
      "metadata": {
        "id": "TLP6F7qiCVBU",
        "colab_type": "text"
      },
      "cell_type": "markdown",
      "source": [
        "Now we can see the average Mean Square Error for our test set"
      ]
    },
    {
      "metadata": {
        "id": "6aEFkDS5NnVh",
        "colab_type": "code",
        "outputId": "944e3c7f-d611-48f3-a0d6-0286f60e946d",
        "colab": {
          "base_uri": "https://localhost:8080/",
          "height": 34
        }
      },
      "cell_type": "code",
      "source": [
        "scores"
      ],
      "execution_count": 16,
      "outputs": [
        {
          "output_type": "execute_result",
          "data": {
            "text/plain": [
              "[8.746109386634826, 8.746109386634826, 0.307955]"
            ]
          },
          "metadata": {
            "tags": []
          },
          "execution_count": 16
        }
      ]
    },
    {
      "metadata": {
        "id": "rPYtlYn7TlcK",
        "colab_type": "text"
      },
      "cell_type": "markdown",
      "source": [
        "### Using our model\n",
        "\n",
        "Now we are ready to use our model. We can predict what the missing number is given a random array"
      ]
    },
    {
      "metadata": {
        "id": "HA0cPCKOPMAN",
        "colab_type": "code",
        "outputId": "e3190798-6988-401a-c7c0-bbef7b77689e",
        "colab": {
          "base_uri": "https://localhost:8080/",
          "height": 34
        }
      },
      "cell_type": "code",
      "source": [
        "model.predict(np.array([[1,2,3,6,5]]))"
      ],
      "execution_count": 17,
      "outputs": [
        {
          "output_type": "execute_result",
          "data": {
            "text/plain": [
              "array([[3.5183716]], dtype=float32)"
            ]
          },
          "metadata": {
            "tags": []
          },
          "execution_count": 17
        }
      ]
    },
    {
      "metadata": {
        "id": "_G-wlcVb38nt",
        "colab_type": "text"
      },
      "cell_type": "markdown",
      "source": [
        "We did not get the exact answer this is because 9/10 times in machine learning you try to get as close as possible to the correct answer. It is impossible to predict the future 100% of the time. \n",
        "\n",
        "We can train on more epochs and tune the hyperparameters to get a more accurate answer.\n",
        "\n",
        "## Non-ML Algorithm\n",
        "\n",
        "As mentioned, this problem can easily and much better be solved using a non-ML algorithm, so for fun lets implement it."
      ]
    },
    {
      "metadata": {
        "id": "ftopaD3j37bJ",
        "colab_type": "code",
        "colab": {}
      },
      "cell_type": "code",
      "source": [
        "def missing_num(arr):\n",
        "    if len(arr) < 2:\n",
        "        return arr\n",
        "    \n",
        "    low_num = arr[0]\n",
        "    high_num = arr[0]\n",
        "    hmap = set()\n",
        "    for each_number in arr:\n",
        "        hmap.add(each_number)\n",
        "        if each_number < low_num:\n",
        "            low_num = each_number\n",
        "        elif each_number > high_num:\n",
        "            high_num = each_number\n",
        "    ret = []\n",
        "    for each_number in range(low_num, high_num):\n",
        "        if each_number not in hmap:\n",
        "            ret.append(each_number)\n",
        "    \n",
        "    return ret\n",
        "    "
      ],
      "execution_count": 0,
      "outputs": []
    },
    {
      "metadata": {
        "id": "IFEsybTa7-zG",
        "colab_type": "code",
        "outputId": "5ed958de-4653-4f24-f7e4-787b60b3a931",
        "colab": {
          "base_uri": "https://localhost:8080/",
          "height": 34
        }
      },
      "cell_type": "code",
      "source": [
        "missing_num([1,2,3,6,5])"
      ],
      "execution_count": 19,
      "outputs": [
        {
          "output_type": "execute_result",
          "data": {
            "text/plain": [
              "[4]"
            ]
          },
          "metadata": {
            "tags": []
          },
          "execution_count": 19
        }
      ]
    },
    {
      "metadata": {
        "id": "9SPt_v7xBKjv",
        "colab_type": "text"
      },
      "cell_type": "markdown",
      "source": [
        "Our non-ML algorithm works on any size array and at any range. This is also an important lesson on understanding if you should even use machine learning to solve your problem. Sometimes a non-ML algorithm works better.\n",
        "\n",
        "### Next Steps\n",
        "\n",
        "Some questions that may rise from this. \n",
        "\n",
        "- Why was the array size fixed?\n",
        "- How do you choose the right hyperparameters?\n",
        "\n",
        "These are questions we will tackle in the next tutorial **:-)**"
      ]
    }
  ]
}